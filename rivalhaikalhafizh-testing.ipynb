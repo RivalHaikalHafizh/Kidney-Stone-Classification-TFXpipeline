{
 "cells": [
  {
   "cell_type": "code",
   "execution_count": 1,
   "id": "15309210",
   "metadata": {},
   "outputs": [],
   "source": [
    "import tensorflow as tf\n",
    "import pandas as pd\n",
    "import requests\n",
    "import json\n",
    "import base64\n",
    "import random"
   ]
  },
  {
   "cell_type": "code",
   "execution_count": 2,
   "id": "44c2b108",
   "metadata": {},
   "outputs": [
    {
     "data": {
      "text/plain": [
       "{'gravity': 1.008,\n",
       " 'ph': 5.09,\n",
       " 'osmo': 371.0,\n",
       " 'cond': 15.5,\n",
       " 'urea': 159.0,\n",
       " 'calc': 2.17}"
      ]
     },
     "execution_count": 2,
     "metadata": {},
     "output_type": "execute_result"
    }
   ],
   "source": [
    "df = pd.read_csv(\"data/kidney.csv\")\n",
    "df.pop(\"target\")\n",
    "\n",
    "columns = df.columns.values\n",
    "rand = random.randint(6, len(columns))\n",
    "\n",
    "features = df.values[rand]\n",
    "\n",
    "inputs = {key: value for key, value in zip(columns, features)}\n",
    "inputs"
   ]
  },
  {
   "cell_type": "code",
   "execution_count": 3,
   "id": "7961aadd",
   "metadata": {},
   "outputs": [],
   "source": [
    "def float_feature(value):\n",
    "    return tf.train.Feature(\n",
    "        float_list=tf.train.FloatList(\n",
    "            value=[value]\n",
    "        ),\n",
    "    )\n",
    "    \n",
    "def int_feature(value):\n",
    "    return tf.train.Feature(\n",
    "        int64_list=tf.train.Int64List(\n",
    "            value=[value]\n",
    "        ),\n",
    "    )"
   ]
  },
  {
   "cell_type": "code",
   "execution_count": 4,
   "id": "592803f4",
   "metadata": {},
   "outputs": [],
   "source": [
    "def prepare_json(inputs: dict):\n",
    "    feature_spec = dict()\n",
    "    \n",
    "    for keys, values in inputs.items():\n",
    "        if keys in ('osmo','urea'):\n",
    "            values=int(values)\n",
    "            feature_spec[keys] = int_feature(values)\n",
    "        elif isinstance(values, float):\n",
    "            feature_spec[keys] = float_feature(values)\n",
    "            \n",
    "    example = tf.train.Example(\n",
    "        features=tf.train.Features(feature=feature_spec)\n",
    "    ).SerializeToString()\n",
    "        \n",
    "    result = [\n",
    "        {\n",
    "            \"examples\": {\n",
    "                \"b64\": base64.b64encode(example).decode()\n",
    "            }\n",
    "        }\n",
    "    ]\n",
    "    \n",
    "    return json.dumps({\n",
    "        \"signature_name\": \"serving_default\",\n",
    "        \"instances\": result,\n",
    "    })"
   ]
  },
  {
   "cell_type": "code",
   "execution_count": 5,
   "id": "9e331600",
   "metadata": {},
   "outputs": [],
   "source": [
    "def make_predictions(inputs):\n",
    "    json_data = prepare_json(inputs)\n",
    "    \n",
    "    endpoint = \"http://localhost:8080/v1/models/cc-model:predict\"\n",
    "    response = requests.post(endpoint, data=json_data)\n",
    "\n",
    "    prediction = response.json()[\"predictions\"][0][0]\n",
    "    return \"kidney stone \" if prediction > 0.6 else \"no kidney stone\""
   ]
  },
  {
   "cell_type": "code",
   "execution_count": 6,
   "id": "99292165",
   "metadata": {},
   "outputs": [
    {
     "data": {
      "text/plain": [
       "'kidney stone '"
      ]
     },
     "execution_count": 6,
     "metadata": {},
     "output_type": "execute_result"
    }
   ],
   "source": [
    "make_predictions(inputs)"
   ]
  }
 ],
 "metadata": {
  "kernelspec": {
   "display_name": "Python 3 (ipykernel)",
   "language": "python",
   "name": "python3"
  },
  "language_info": {
   "codemirror_mode": {
    "name": "ipython",
    "version": 3
   },
   "file_extension": ".py",
   "mimetype": "text/x-python",
   "name": "python",
   "nbconvert_exporter": "python",
   "pygments_lexer": "ipython3",
   "version": "3.9.15"
  }
 },
 "nbformat": 4,
 "nbformat_minor": 5
}
